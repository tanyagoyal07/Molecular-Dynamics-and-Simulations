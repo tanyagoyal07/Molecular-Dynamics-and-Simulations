{
 "cells": [
  {
   "cell_type": "code",
   "execution_count": 5,
   "id": "cbf56ff1",
   "metadata": {},
   "outputs": [
    {
     "name": "stdout",
     "output_type": "stream",
     "text": [
      "Collecting package metadata (current_repodata.json): done\n",
      "Solving environment: failed with initial frozen solve. Retrying with flexible solve.\n",
      "Solving environment: failed with repodata from current_repodata.json, will retry with next repodata source.\n",
      "Collecting package metadata (repodata.json): done\n",
      "Solving environment: done\n",
      "\n",
      "\n",
      "==> WARNING: A newer version of conda exists. <==\n",
      "  current version: 4.10.3\n",
      "  latest version: 4.11.0\n",
      "\n",
      "Please update conda by running\n",
      "\n",
      "    $ conda update -n base -c defaults conda\n",
      "\n",
      "\n",
      "\n",
      "## Package Plan ##\n",
      "\n",
      "  environment location: /Users/tanyagoyal/opt/anaconda3\n",
      "\n",
      "  added / updated specs:\n",
      "    - mdanalysis\n",
      "\n",
      "\n",
      "The following packages will be downloaded:\n",
      "\n",
      "    package                    |            build\n",
      "    ---------------------------|-----------------\n",
      "    biopython-1.79             |   py38h96a0964_1         2.6 MB  conda-forge\n",
      "    conda-4.11.0               |   py38h50d1736_0        16.9 MB  conda-forge\n",
      "    griddataformats-0.6.0      |     pyhd8ed1ab_0         2.0 MB  conda-forge\n",
      "    gsd-2.5.1                  |   py38hbe852b5_0         120 KB  conda-forge\n",
      "    mdanalysis-1.0.0           |   py38hc84c608_0         1.7 MB  conda-forge\n",
      "    mmtf-python-1.1.2          |             py_0          21 KB  conda-forge\n",
      "    python_abi-3.8             |           2_cp38           4 KB  conda-forge\n",
      "    ------------------------------------------------------------\n",
      "                                           Total:        23.3 MB\n",
      "\n",
      "The following NEW packages will be INSTALLED:\n",
      "\n",
      "  biopython          conda-forge/osx-64::biopython-1.79-py38h96a0964_1\n",
      "  griddataformats    conda-forge/noarch::griddataformats-0.6.0-pyhd8ed1ab_0\n",
      "  gsd                conda-forge/osx-64::gsd-2.5.1-py38hbe852b5_0\n",
      "  mdanalysis         conda-forge/osx-64::mdanalysis-1.0.0-py38hc84c608_0\n",
      "  mmtf-python        conda-forge/noarch::mmtf-python-1.1.2-py_0\n",
      "  python_abi         conda-forge/osx-64::python_abi-3.8-2_cp38\n",
      "\n",
      "The following packages will be UPDATED:\n",
      "\n",
      "  conda              pkgs/main::conda-4.10.3-py38hecd8cb5_0 --> conda-forge::conda-4.11.0-py38h50d1736_0\n",
      "\n",
      "\n",
      "\n",
      "Downloading and Extracting Packages\n",
      "biopython-1.79       | 2.6 MB    | ##################################### | 100% \n",
      "griddataformats-0.6. | 2.0 MB    | ##################################### | 100% \n",
      "mdanalysis-1.0.0     | 1.7 MB    | ##################################### | 100% \n",
      "mmtf-python-1.1.2    | 21 KB     | ##################################### | 100% \n",
      "conda-4.11.0         | 16.9 MB   | ##################################### | 100% \n",
      "gsd-2.5.1            | 120 KB    | ##################################### | 100% \n",
      "python_abi-3.8       | 4 KB      | ##################################### | 100% \n",
      "Preparing transaction: done\n",
      "Verifying transaction: done\n",
      "Executing transaction: done\n",
      "\n",
      "Note: you may need to restart the kernel to use updated packages.\n"
     ]
    }
   ],
   "source": [
    "conda install mdanalysis"
   ]
  },
  {
   "cell_type": "code",
   "execution_count": 2,
   "id": "9ab9a072",
   "metadata": {},
   "outputs": [
    {
     "name": "stdout",
     "output_type": "stream",
     "text": [
      "Collecting nglview\n",
      "  Downloading nglview-3.0.3.tar.gz (5.7 MB)\n",
      "\u001b[K     |████████████████████████████████| 5.7 MB 2.0 MB/s eta 0:00:01\n",
      "\u001b[?25h  Installing build dependencies ... \u001b[?25ldone\n",
      "\u001b[?25h  Getting requirements to build wheel ... \u001b[?25ldone\n",
      "\u001b[?25h    Preparing wheel metadata ... \u001b[?25ldone\n",
      "\u001b[?25hRequirement already satisfied: ipywidgets>=7 in /Users/tanyagoyal/opt/anaconda3/lib/python3.8/site-packages (from nglview) (7.6.3)\n",
      "Requirement already satisfied: jupyterlab-widgets in /Users/tanyagoyal/opt/anaconda3/lib/python3.8/site-packages (from nglview) (1.0.0)\n",
      "Requirement already satisfied: numpy in /Users/tanyagoyal/opt/anaconda3/lib/python3.8/site-packages (from nglview) (1.19.5)\n",
      "Requirement already satisfied: ipykernel>=4.5.1 in /Users/tanyagoyal/opt/anaconda3/lib/python3.8/site-packages (from ipywidgets>=7->nglview) (5.3.4)\n",
      "Requirement already satisfied: traitlets>=4.3.1 in /Users/tanyagoyal/opt/anaconda3/lib/python3.8/site-packages (from ipywidgets>=7->nglview) (5.0.5)\n",
      "Requirement already satisfied: nbformat>=4.2.0 in /Users/tanyagoyal/opt/anaconda3/lib/python3.8/site-packages (from ipywidgets>=7->nglview) (5.1.3)\n",
      "Requirement already satisfied: ipython>=4.0.0 in /Users/tanyagoyal/opt/anaconda3/lib/python3.8/site-packages (from ipywidgets>=7->nglview) (7.22.0)\n",
      "Requirement already satisfied: widgetsnbextension~=3.5.0 in /Users/tanyagoyal/opt/anaconda3/lib/python3.8/site-packages (from ipywidgets>=7->nglview) (3.5.1)\n",
      "Requirement already satisfied: jupyter-client in /Users/tanyagoyal/opt/anaconda3/lib/python3.8/site-packages (from ipykernel>=4.5.1->ipywidgets>=7->nglview) (6.1.12)\n",
      "Requirement already satisfied: appnope in /Users/tanyagoyal/opt/anaconda3/lib/python3.8/site-packages (from ipykernel>=4.5.1->ipywidgets>=7->nglview) (0.1.2)\n",
      "Requirement already satisfied: tornado>=4.2 in /Users/tanyagoyal/opt/anaconda3/lib/python3.8/site-packages (from ipykernel>=4.5.1->ipywidgets>=7->nglview) (6.1)\n",
      "Requirement already satisfied: pexpect>4.3 in /Users/tanyagoyal/opt/anaconda3/lib/python3.8/site-packages (from ipython>=4.0.0->ipywidgets>=7->nglview) (4.8.0)\n",
      "Requirement already satisfied: prompt-toolkit!=3.0.0,!=3.0.1,<3.1.0,>=2.0.0 in /Users/tanyagoyal/opt/anaconda3/lib/python3.8/site-packages (from ipython>=4.0.0->ipywidgets>=7->nglview) (3.0.17)\n",
      "Requirement already satisfied: setuptools>=18.5 in /Users/tanyagoyal/opt/anaconda3/lib/python3.8/site-packages (from ipython>=4.0.0->ipywidgets>=7->nglview) (52.0.0.post20210125)\n",
      "Requirement already satisfied: decorator in /Users/tanyagoyal/opt/anaconda3/lib/python3.8/site-packages (from ipython>=4.0.0->ipywidgets>=7->nglview) (5.0.6)\n",
      "Requirement already satisfied: jedi>=0.16 in /Users/tanyagoyal/opt/anaconda3/lib/python3.8/site-packages (from ipython>=4.0.0->ipywidgets>=7->nglview) (0.17.2)\n",
      "Requirement already satisfied: pickleshare in /Users/tanyagoyal/opt/anaconda3/lib/python3.8/site-packages (from ipython>=4.0.0->ipywidgets>=7->nglview) (0.7.5)\n",
      "Requirement already satisfied: backcall in /Users/tanyagoyal/opt/anaconda3/lib/python3.8/site-packages (from ipython>=4.0.0->ipywidgets>=7->nglview) (0.2.0)\n",
      "Requirement already satisfied: pygments in /Users/tanyagoyal/opt/anaconda3/lib/python3.8/site-packages (from ipython>=4.0.0->ipywidgets>=7->nglview) (2.8.1)\n",
      "Requirement already satisfied: parso<0.8.0,>=0.7.0 in /Users/tanyagoyal/opt/anaconda3/lib/python3.8/site-packages (from jedi>=0.16->ipython>=4.0.0->ipywidgets>=7->nglview) (0.7.0)\n",
      "Requirement already satisfied: jsonschema!=2.5.0,>=2.4 in /Users/tanyagoyal/opt/anaconda3/lib/python3.8/site-packages (from nbformat>=4.2.0->ipywidgets>=7->nglview) (3.2.0)\n",
      "Requirement already satisfied: ipython-genutils in /Users/tanyagoyal/opt/anaconda3/lib/python3.8/site-packages (from nbformat>=4.2.0->ipywidgets>=7->nglview) (0.2.0)\n",
      "Requirement already satisfied: jupyter-core in /Users/tanyagoyal/opt/anaconda3/lib/python3.8/site-packages (from nbformat>=4.2.0->ipywidgets>=7->nglview) (4.7.1)\n",
      "Requirement already satisfied: attrs>=17.4.0 in /Users/tanyagoyal/opt/anaconda3/lib/python3.8/site-packages (from jsonschema!=2.5.0,>=2.4->nbformat>=4.2.0->ipywidgets>=7->nglview) (20.3.0)\n",
      "Requirement already satisfied: pyrsistent>=0.14.0 in /Users/tanyagoyal/opt/anaconda3/lib/python3.8/site-packages (from jsonschema!=2.5.0,>=2.4->nbformat>=4.2.0->ipywidgets>=7->nglview) (0.17.3)\n",
      "Requirement already satisfied: six>=1.11.0 in /Users/tanyagoyal/opt/anaconda3/lib/python3.8/site-packages (from jsonschema!=2.5.0,>=2.4->nbformat>=4.2.0->ipywidgets>=7->nglview) (1.15.0)\n",
      "Requirement already satisfied: ptyprocess>=0.5 in /Users/tanyagoyal/opt/anaconda3/lib/python3.8/site-packages (from pexpect>4.3->ipython>=4.0.0->ipywidgets>=7->nglview) (0.7.0)\n",
      "Requirement already satisfied: wcwidth in /Users/tanyagoyal/opt/anaconda3/lib/python3.8/site-packages (from prompt-toolkit!=3.0.0,!=3.0.1,<3.1.0,>=2.0.0->ipython>=4.0.0->ipywidgets>=7->nglview) (0.2.5)\n",
      "Requirement already satisfied: notebook>=4.4.1 in /Users/tanyagoyal/opt/anaconda3/lib/python3.8/site-packages (from widgetsnbextension~=3.5.0->ipywidgets>=7->nglview) (6.3.0)\n",
      "Requirement already satisfied: terminado>=0.8.3 in /Users/tanyagoyal/opt/anaconda3/lib/python3.8/site-packages (from notebook>=4.4.1->widgetsnbextension~=3.5.0->ipywidgets>=7->nglview) (0.9.4)\n",
      "Requirement already satisfied: argon2-cffi in /Users/tanyagoyal/opt/anaconda3/lib/python3.8/site-packages (from notebook>=4.4.1->widgetsnbextension~=3.5.0->ipywidgets>=7->nglview) (20.1.0)\n",
      "Requirement already satisfied: nbconvert in /Users/tanyagoyal/opt/anaconda3/lib/python3.8/site-packages (from notebook>=4.4.1->widgetsnbextension~=3.5.0->ipywidgets>=7->nglview) (6.0.7)\n",
      "Requirement already satisfied: jinja2 in /Users/tanyagoyal/opt/anaconda3/lib/python3.8/site-packages (from notebook>=4.4.1->widgetsnbextension~=3.5.0->ipywidgets>=7->nglview) (2.11.3)\n",
      "Requirement already satisfied: Send2Trash>=1.5.0 in /Users/tanyagoyal/opt/anaconda3/lib/python3.8/site-packages (from notebook>=4.4.1->widgetsnbextension~=3.5.0->ipywidgets>=7->nglview) (1.5.0)\n",
      "Requirement already satisfied: pyzmq>=17 in /Users/tanyagoyal/opt/anaconda3/lib/python3.8/site-packages (from notebook>=4.4.1->widgetsnbextension~=3.5.0->ipywidgets>=7->nglview) (20.0.0)\n",
      "Requirement already satisfied: prometheus-client in /Users/tanyagoyal/opt/anaconda3/lib/python3.8/site-packages (from notebook>=4.4.1->widgetsnbextension~=3.5.0->ipywidgets>=7->nglview) (0.10.1)\n",
      "Requirement already satisfied: python-dateutil>=2.1 in /Users/tanyagoyal/opt/anaconda3/lib/python3.8/site-packages (from jupyter-client->ipykernel>=4.5.1->ipywidgets>=7->nglview) (2.8.1)\n",
      "Requirement already satisfied: cffi>=1.0.0 in /Users/tanyagoyal/opt/anaconda3/lib/python3.8/site-packages (from argon2-cffi->notebook>=4.4.1->widgetsnbextension~=3.5.0->ipywidgets>=7->nglview) (1.14.5)\n",
      "Requirement already satisfied: pycparser in /Users/tanyagoyal/opt/anaconda3/lib/python3.8/site-packages (from cffi>=1.0.0->argon2-cffi->notebook>=4.4.1->widgetsnbextension~=3.5.0->ipywidgets>=7->nglview) (2.20)\n",
      "Requirement already satisfied: MarkupSafe>=0.23 in /Users/tanyagoyal/opt/anaconda3/lib/python3.8/site-packages (from jinja2->notebook>=4.4.1->widgetsnbextension~=3.5.0->ipywidgets>=7->nglview) (1.1.1)\n",
      "Requirement already satisfied: testpath in /Users/tanyagoyal/opt/anaconda3/lib/python3.8/site-packages (from nbconvert->notebook>=4.4.1->widgetsnbextension~=3.5.0->ipywidgets>=7->nglview) (0.4.4)\n",
      "Requirement already satisfied: pandocfilters>=1.4.1 in /Users/tanyagoyal/opt/anaconda3/lib/python3.8/site-packages (from nbconvert->notebook>=4.4.1->widgetsnbextension~=3.5.0->ipywidgets>=7->nglview) (1.4.3)\n",
      "Requirement already satisfied: bleach in /Users/tanyagoyal/opt/anaconda3/lib/python3.8/site-packages (from nbconvert->notebook>=4.4.1->widgetsnbextension~=3.5.0->ipywidgets>=7->nglview) (3.3.0)\n",
      "Requirement already satisfied: defusedxml in /Users/tanyagoyal/opt/anaconda3/lib/python3.8/site-packages (from nbconvert->notebook>=4.4.1->widgetsnbextension~=3.5.0->ipywidgets>=7->nglview) (0.7.1)\n",
      "Requirement already satisfied: entrypoints>=0.2.2 in /Users/tanyagoyal/opt/anaconda3/lib/python3.8/site-packages (from nbconvert->notebook>=4.4.1->widgetsnbextension~=3.5.0->ipywidgets>=7->nglview) (0.3)\n",
      "Requirement already satisfied: mistune<2,>=0.8.1 in /Users/tanyagoyal/opt/anaconda3/lib/python3.8/site-packages (from nbconvert->notebook>=4.4.1->widgetsnbextension~=3.5.0->ipywidgets>=7->nglview) (0.8.4)\n",
      "Requirement already satisfied: nbclient<0.6.0,>=0.5.0 in /Users/tanyagoyal/opt/anaconda3/lib/python3.8/site-packages (from nbconvert->notebook>=4.4.1->widgetsnbextension~=3.5.0->ipywidgets>=7->nglview) (0.5.3)\n",
      "Requirement already satisfied: jupyterlab-pygments in /Users/tanyagoyal/opt/anaconda3/lib/python3.8/site-packages (from nbconvert->notebook>=4.4.1->widgetsnbextension~=3.5.0->ipywidgets>=7->nglview) (0.1.2)\n",
      "Requirement already satisfied: nest-asyncio in /Users/tanyagoyal/opt/anaconda3/lib/python3.8/site-packages (from nbclient<0.6.0,>=0.5.0->nbconvert->notebook>=4.4.1->widgetsnbextension~=3.5.0->ipywidgets>=7->nglview) (1.5.1)\n",
      "Requirement already satisfied: async-generator in /Users/tanyagoyal/opt/anaconda3/lib/python3.8/site-packages (from nbclient<0.6.0,>=0.5.0->nbconvert->notebook>=4.4.1->widgetsnbextension~=3.5.0->ipywidgets>=7->nglview) (1.10)\n",
      "Requirement already satisfied: packaging in /Users/tanyagoyal/opt/anaconda3/lib/python3.8/site-packages (from bleach->nbconvert->notebook>=4.4.1->widgetsnbextension~=3.5.0->ipywidgets>=7->nglview) (20.9)\n",
      "Requirement already satisfied: webencodings in /Users/tanyagoyal/opt/anaconda3/lib/python3.8/site-packages (from bleach->nbconvert->notebook>=4.4.1->widgetsnbextension~=3.5.0->ipywidgets>=7->nglview) (0.5.1)\n",
      "Requirement already satisfied: pyparsing>=2.0.2 in /Users/tanyagoyal/opt/anaconda3/lib/python3.8/site-packages (from packaging->bleach->nbconvert->notebook>=4.4.1->widgetsnbextension~=3.5.0->ipywidgets>=7->nglview) (2.4.7)\n",
      "Building wheels for collected packages: nglview\n",
      "  Building wheel for nglview (PEP 517) ... \u001b[?25ldone\n",
      "\u001b[?25h  Created wheel for nglview: filename=nglview-3.0.3-py3-none-any.whl size=8057551 sha256=c6038c3772029988f1fe2756389589a920c850bb0adff4a85f99dab05fe883e5\n",
      "  Stored in directory: /Users/tanyagoyal/Library/Caches/pip/wheels/83/a4/c3/283e7ba3ea501b8fb6fb4acc8f11d6aada1f1640d794db0c41\n",
      "Successfully built nglview\n",
      "Installing collected packages: nglview\n",
      "Successfully installed nglview-3.0.3\n",
      "Note: you may need to restart the kernel to use updated packages.\n"
     ]
    }
   ],
   "source": [
    "pip install nglview"
   ]
  },
  {
   "cell_type": "code",
   "execution_count": 6,
   "id": "d7621930",
   "metadata": {},
   "outputs": [
    {
     "name": "stdout",
     "output_type": "stream",
     "text": [
      "Collecting package metadata (current_repodata.json): done\n",
      "Solving environment: done\n",
      "\n",
      "## Package Plan ##\n",
      "\n",
      "  environment location: /Users/tanyagoyal/opt/anaconda3\n",
      "\n",
      "  added / updated specs:\n",
      "    - mdanalysis\n",
      "\n",
      "\n",
      "The following packages will be downloaded:\n",
      "\n",
      "    package                    |            build\n",
      "    ---------------------------|-----------------\n",
      "    applaunchservices-0.2.1    |             py_0           8 KB  conda-forge\n",
      "    arviz-0.11.4               |     pyhd8ed1ab_0         1.4 MB  conda-forge\n",
      "    backports.functools_lru_cache-1.6.4|     pyhd8ed1ab_0           9 KB  conda-forge\n",
      "    backports.tempfile-1.0     |             py_0          10 KB  conda-forge\n",
      "    backports.weakref-1.0.post1|py38h32f6830_1002           8 KB  conda-forge\n",
      "    cftime-1.5.1.1             |   py38hbe852b5_1         189 KB  conda-forge\n",
      "    cloudpickle-1.6.0          |             py_0          22 KB  conda-forge\n",
      "    conda-content-trust-0.1.3  |     pyhd8ed1ab_0          54 KB  conda-forge\n",
      "    conda-package-handling-1.7.3|   py38h96a0964_1         1.7 MB  conda-forge\n",
      "    et_xmlfile-1.0.1           |          py_1001          11 KB  conda-forge\n",
      "    freetype-2.10.4            |       ha233b18_0         890 KB  conda-forge\n",
      "    heapdict-1.0.1             |             py_0           7 KB  conda-forge\n",
      "    jdcal-1.4.1                |             py_0           9 KB  conda-forge\n",
      "    jsonschema-3.2.0           |             py_2          45 KB  conda-forge\n",
      "    libev-4.33                 |       haf1e3a3_0         100 KB  conda-forge\n",
      "    mypy_extensions-0.4.3      |           py38_0           9 KB  conda-forge\n",
      "    olefile-0.46               |             py_0          31 KB  conda-forge\n",
      "    path.py-12.5.0             |                0           4 KB  conda-forge\n",
      "    xarray-0.20.2              |     pyhd8ed1ab_0         628 KB  conda-forge\n",
      "    xmltodict-0.12.0           |             py_0          11 KB  conda-forge\n",
      "    yaml-0.2.5                 |       haf1e3a3_0          81 KB  conda-forge\n",
      "    ------------------------------------------------------------\n",
      "                                           Total:         5.1 MB\n",
      "\n",
      "The following packages will be UPDATED:\n",
      "\n",
      "  arviz                pkgs/main::arviz-0.11.2-pyhd3eb1b0_0 --> conda-forge::arviz-0.11.4-pyhd8ed1ab_0\n",
      "  backports.weakref  pkgs/main/noarch::backports.weakref-1~ --> conda-forge/osx-64::backports.weakref-1.0.post1-py38h32f6830_1002\n",
      "  cftime             pkgs/main::cftime-1.5.0-py38he3068b8_0 --> conda-forge::cftime-1.5.1.1-py38hbe852b5_1\n",
      "  conda-content-tru~ pkgs/main::conda-content-trust-0.1.1-~ --> conda-forge::conda-content-trust-0.1.3-pyhd8ed1ab_0\n",
      "  xarray              pkgs/main::xarray-0.18.0-pyhd3eb1b0_1 --> conda-forge::xarray-0.20.2-pyhd8ed1ab_0\n",
      "\n",
      "The following packages will be SUPERSEDED by a higher-priority channel:\n",
      "\n",
      "  applaunchservices                               pkgs/main --> conda-forge\n",
      "  backports.functoo~ pkgs/main::backports.functools_lru_ca~ --> conda-forge::backports.functools_lru_cache-1.6.4-pyhd8ed1ab_0\n",
      "  backports.tempfile pkgs/main::backports.tempfile-1.0-pyh~ --> conda-forge::backports.tempfile-1.0-py_0\n",
      "  cloudpickle                                     pkgs/main --> conda-forge\n",
      "  conda-package-han~ pkgs/main::conda-package-handling-1.7~ --> conda-forge::conda-package-handling-1.7.3-py38h96a0964_1\n",
      "  et_xmlfile                                      pkgs/main --> conda-forge\n",
      "  freetype                                        pkgs/main --> conda-forge\n",
      "  heapdict                                        pkgs/main --> conda-forge\n",
      "  jdcal                                           pkgs/main --> conda-forge\n",
      "  jsonschema                                      pkgs/main --> conda-forge\n",
      "  libev                                           pkgs/main --> conda-forge\n",
      "  mypy_extensions                                 pkgs/main --> conda-forge\n",
      "  olefile                                         pkgs/main --> conda-forge\n",
      "  path.py                                         pkgs/main --> conda-forge\n",
      "  xmltodict                                       pkgs/main --> conda-forge\n",
      "  yaml                                            pkgs/main --> conda-forge\n",
      "\n",
      "\n",
      "\n",
      "Downloading and Extracting Packages\n",
      "heapdict-1.0.1       | 7 KB      | ##################################### | 100% \n",
      "conda-content-trust- | 54 KB     | ##################################### | 100% \n",
      "backports.functools_ | 9 KB      | ##################################### | 100% \n",
      "backports.tempfile-1 | 10 KB     | ##################################### | 100% \n",
      "backports.weakref-1. | 8 KB      | ##################################### | 100% \n",
      "jsonschema-3.2.0     | 45 KB     | ##################################### | 100% \n",
      "applaunchservices-0. | 8 KB      | ##################################### | 100% \n",
      "yaml-0.2.5           | 81 KB     | ##################################### | 100% \n",
      "et_xmlfile-1.0.1     | 11 KB     | ##################################### | 100% \n",
      "arviz-0.11.4         | 1.4 MB    | ##################################### | 100% \n",
      "xarray-0.20.2        | 628 KB    | ##################################### | 100% \n",
      "cloudpickle-1.6.0    | 22 KB     | ##################################### | 100% \n",
      "libev-4.33           | 100 KB    | ##################################### | 100% \n",
      "jdcal-1.4.1          | 9 KB      | ##################################### | 100% \n",
      "conda-package-handli | 1.7 MB    | ##################################### | 100% \n",
      "olefile-0.46         | 31 KB     | ##################################### | 100% \n",
      "mypy_extensions-0.4. | 9 KB      | ##################################### | 100% \n",
      "cftime-1.5.1.1       | 189 KB    | ##################################### | 100% \n",
      "xmltodict-0.12.0     | 11 KB     | ##################################### | 100% \n",
      "path.py-12.5.0       | 4 KB      | ##################################### | 100% \n",
      "freetype-2.10.4      | 890 KB    | ##################################### | 100% \n",
      "Preparing transaction: done\n",
      "Verifying transaction: done\n",
      "Executing transaction: done\n",
      "\n",
      "Note: you may need to restart the kernel to use updated packages.\n"
     ]
    }
   ],
   "source": [
    "conda update mdanalysis"
   ]
  },
  {
   "cell_type": "code",
   "execution_count": 7,
   "id": "3b4738ff",
   "metadata": {},
   "outputs": [
    {
     "name": "stdout",
     "output_type": "stream",
     "text": [
      "Collecting package metadata (current_repodata.json): done\n",
      "Solving environment: failed with initial frozen solve. Retrying with flexible solve.\n",
      "Solving environment: failed with repodata from current_repodata.json, will retry with next repodata source.\n",
      "Collecting package metadata (repodata.json): done\n",
      "Solving environment: done\n",
      "\n",
      "## Package Plan ##\n",
      "\n",
      "  environment location: /Users/tanyagoyal/opt/anaconda3\n",
      "\n",
      "  added / updated specs:\n",
      "    - mdanalysistests\n",
      "\n",
      "\n",
      "The following packages will be downloaded:\n",
      "\n",
      "    package                    |            build\n",
      "    ---------------------------|-----------------\n",
      "    hypothesis-6.35.0          |     pyhd8ed1ab_0         253 KB  conda-forge\n",
      "    mdanalysistests-1.0.0      |   py38h32f6830_1        44.0 MB  conda-forge\n",
      "    ------------------------------------------------------------\n",
      "                                           Total:        44.2 MB\n",
      "\n",
      "The following NEW packages will be INSTALLED:\n",
      "\n",
      "  hypothesis         conda-forge/noarch::hypothesis-6.35.0-pyhd8ed1ab_0\n",
      "  mdanalysistests    conda-forge/osx-64::mdanalysistests-1.0.0-py38h32f6830_1\n",
      "\n",
      "\n",
      "\n",
      "Downloading and Extracting Packages\n",
      "hypothesis-6.35.0    | 253 KB    | ##################################### | 100% \n",
      "mdanalysistests-1.0. | 44.0 MB   | ##################################### | 100% \n",
      "Preparing transaction: done\n",
      "Verifying transaction: done\n",
      "Executing transaction: done\n",
      "\n",
      "Note: you may need to restart the kernel to use updated packages.\n"
     ]
    }
   ],
   "source": [
    "conda install MDAnalysisTests"
   ]
  },
  {
   "cell_type": "code",
   "execution_count": 2,
   "id": "13b0deac",
   "metadata": {},
   "outputs": [
    {
     "name": "stdout",
     "output_type": "stream",
     "text": [
      "Collecting matplotlib==3.2\n",
      "  Downloading matplotlib-3.2.0-cp38-cp38-macosx_10_9_x86_64.whl (12.4 MB)\n",
      "\u001b[K     |████████████████████████████████| 12.4 MB 7.6 MB/s eta 0:00:01\n",
      "\u001b[?25hRequirement already satisfied: cycler>=0.10 in /Users/tanyagoyal/opt/anaconda3/lib/python3.8/site-packages (from matplotlib==3.2) (0.10.0)\n",
      "Requirement already satisfied: pyparsing!=2.0.4,!=2.1.2,!=2.1.6,>=2.0.1 in /Users/tanyagoyal/opt/anaconda3/lib/python3.8/site-packages (from matplotlib==3.2) (2.4.7)\n",
      "Requirement already satisfied: numpy>=1.11 in /Users/tanyagoyal/opt/anaconda3/lib/python3.8/site-packages (from matplotlib==3.2) (1.19.5)\n",
      "Requirement already satisfied: kiwisolver>=1.0.1 in /Users/tanyagoyal/opt/anaconda3/lib/python3.8/site-packages (from matplotlib==3.2) (1.3.1)\n",
      "Requirement already satisfied: python-dateutil>=2.1 in /Users/tanyagoyal/opt/anaconda3/lib/python3.8/site-packages (from matplotlib==3.2) (2.8.1)\n",
      "Requirement already satisfied: six in /Users/tanyagoyal/opt/anaconda3/lib/python3.8/site-packages (from cycler>=0.10->matplotlib==3.2) (1.15.0)\n",
      "Installing collected packages: matplotlib\n",
      "  Attempting uninstall: matplotlib\n",
      "    Found existing installation: matplotlib 3.3.4\n",
      "    Uninstalling matplotlib-3.3.4:\n",
      "      Successfully uninstalled matplotlib-3.3.4\n",
      "Successfully installed matplotlib-3.2.0\n",
      "Note: you may need to restart the kernel to use updated packages.\n"
     ]
    }
   ],
   "source": [
    "pip install matplotlib==3.2  "
   ]
  },
  {
   "cell_type": "markdown",
   "id": "e8715c82",
   "metadata": {},
   "source": [
    "# Calculating the RDF atom-to-atom"
   ]
  },
  {
   "cell_type": "markdown",
   "id": "5036d4c8",
   "metadata": {},
   "source": [
    "We calculate the site-specific radial distribution functions of solvent around certain atoms.\n",
    "\n",
    "Packages required:\n",
    "\n",
    "MDAnalysis ([MADWB11], [GLB+16])\n",
    "and MDAnalysisTests\n",
    "\n",
    "Optional packages for visualisation:\n",
    "matplotlib"
   ]
  },
  {
   "cell_type": "code",
   "execution_count": 1,
   "id": "d8ff4a2d",
   "metadata": {},
   "outputs": [
    {
     "name": "stderr",
     "output_type": "stream",
     "text": [
      "/Users/tanyagoyal/opt/anaconda3/lib/python3.8/site-packages/MDAnalysisTests/__init__.py:126: MatplotlibDeprecationWarning: The 'warn' parameter of use() is deprecated since Matplotlib 3.1 and will be removed in 3.3.  If any parameter follows 'warn', they should be pass as keyword, not positionally.\n",
      "  matplotlib.use('agg', warn=False)\n"
     ]
    }
   ],
   "source": [
    "import MDAnalysis as mda\n",
    "from MDAnalysis.tests.datafiles import TPR, XTC\n",
    "from MDAnalysis.analysis import rdf\n",
    "import matplotlib.pyplot as plt\n",
    "import numpy as np\n",
    "%matplotlib inline"
   ]
  },
  {
   "cell_type": "markdown",
   "id": "e4b23fba",
   "metadata": {},
   "source": [
    "## Loading files\n",
    "\n",
    "The test files here is adenylate kinase (AdK), a phosophotransferase enzyme. ([BDPW09])"
   ]
  },
  {
   "cell_type": "code",
   "execution_count": 2,
   "id": "45323acd",
   "metadata": {},
   "outputs": [],
   "source": [
    "u = mda.Universe(TPR, XTC)"
   ]
  },
  {
   "cell_type": "markdown",
   "id": "43a61900",
   "metadata": {},
   "source": [
    "## Calculating the site-specific radial distribution function\n",
    "\n",
    "A radial distribution function g_ab(r) describes the time-averaged density of particles in b from the reference group a at distance r. It is normalised so that it becomes 1 for large separations in a homogenous system\n",
    "The InterRDF_s class (API docs) allows you to compute RDFs on an atom-to-atom basis, rather than simply giving the averaged RDF as in InterRDF.\n",
    "\n",
    "Below, we have calculated the RDF between selected alpha-carbons and the water atoms within 15 angstroms of CA60, in the first frame of the trajectory. The water group does not update over the trajectory as the water moves towards and away from the alpha-carbon.\n",
    "\n",
    "The RDF is limited to a spherical shell around each atom by range. Note that the range is defined around each atom, rather than the center-of-mass of the entire group.\n",
    "\n",
    "If density=True, the final RDF is over the average density of the selected atoms in the trajectory box, making it comparable to the output of rdf.InterRDF. If density=False, the density is not taken into account. This can make it difficult to compare RDFs between AtomGroups that contain different numbers of atoms."
   ]
  },
  {
   "cell_type": "code",
   "execution_count": 3,
   "id": "35eb8cb6",
   "metadata": {},
   "outputs": [],
   "source": [
    "ca60 = u.select_atoms('resid 60 and name CA')\n",
    "ca61 = u.select_atoms('resid 61 and name CA')\n",
    "ca62 = u.select_atoms('resid 62 and name CA')\n",
    "water = u.select_atoms('resname SOL and sphzone 15 group sel_a', sel_a=ca60)\n",
    "\n",
    "ags = [[ca60+ca61, water], [ca62, water]]\n",
    "\n",
    "ss_rdf = rdf.InterRDF_s(u, ags,\n",
    "                    nbins=75,  # default\n",
    "                    range=(0.0, 15.0),  # distance\n",
    "                    density=True,\n",
    "                   )\n",
    "ss_rdf.run();"
   ]
  },
  {
   "cell_type": "markdown",
   "id": "4f547f79",
   "metadata": {},
   "source": [
    "Like rdf.InterRDF, the distance bins are available at ss_rdf.bins"
   ]
  },
  {
   "cell_type": "code",
   "execution_count": 4,
   "id": "bb488e16",
   "metadata": {},
   "outputs": [
    {
     "data": {
      "text/plain": [
       "array([ 0.1,  0.3,  0.5,  0.7,  0.9,  1.1,  1.3,  1.5,  1.7,  1.9,  2.1,\n",
       "        2.3,  2.5,  2.7,  2.9,  3.1,  3.3,  3.5,  3.7,  3.9,  4.1,  4.3,\n",
       "        4.5,  4.7,  4.9,  5.1,  5.3,  5.5,  5.7,  5.9,  6.1,  6.3,  6.5,\n",
       "        6.7,  6.9,  7.1,  7.3,  7.5,  7.7,  7.9,  8.1,  8.3,  8.5,  8.7,\n",
       "        8.9,  9.1,  9.3,  9.5,  9.7,  9.9, 10.1, 10.3, 10.5, 10.7, 10.9,\n",
       "       11.1, 11.3, 11.5, 11.7, 11.9, 12.1, 12.3, 12.5, 12.7, 12.9, 13.1,\n",
       "       13.3, 13.5, 13.7, 13.9, 14.1, 14.3, 14.5, 14.7, 14.9])"
      ]
     },
     "execution_count": 4,
     "metadata": {},
     "output_type": "execute_result"
    }
   ],
   "source": [
    "ss_rdf.bins"
   ]
  },
  {
   "cell_type": "markdown",
   "id": "8993e655",
   "metadata": {},
   "source": [
    "ss_rdf.rdf contains the atom-pairwise RDF for each of your pairs of AtomGroups. It is a list with the same length as your list of pairs ags. A result array has the shape (len(ag1), len(ag2), nbins) for the AtomGroup pair (ag1, ag2)."
   ]
  },
  {
   "cell_type": "code",
   "execution_count": 5,
   "id": "992c2104",
   "metadata": {},
   "outputs": [
    {
     "name": "stdout",
     "output_type": "stream",
     "text": [
      "There are 1041 water atoms\n",
      "The first result array has shape: (2, 1041, 75)\n",
      "The second result array has shape: (1, 1041, 75)\n"
     ]
    }
   ],
   "source": [
    "print('There are {} water atoms'.format(len(water)))\n",
    "print('The first result array has shape: {}'.format(ss_rdf.rdf[0].shape))\n",
    "print('The second result array has shape: {}'.format(ss_rdf.rdf[1].shape))"
   ]
  },
  {
   "cell_type": "markdown",
   "id": "2ec0a00e",
   "metadata": {},
   "source": [
    "Index the results array to get the RDF for a particular pair of atoms. ss_rdf.rdf[i][j][k] will return the RDF between atoms j and k in the ith pair of atom groups. For example, below we get the RDF between the alpha-carbon in residue 61 (i.e. the second atom of the first atom group) and the 571st atom of water."
   ]
  },
  {
   "cell_type": "code",
   "execution_count": 6,
   "id": "2539e8b8",
   "metadata": {},
   "outputs": [
    {
     "data": {
      "text/plain": [
       "array([0.        , 0.        , 0.        , 0.        , 0.        ,\n",
       "       0.        , 0.        , 0.        , 0.        , 0.        ,\n",
       "       0.        , 0.        , 0.        , 0.        , 0.        ,\n",
       "       0.        , 0.        , 0.        , 0.        , 0.        ,\n",
       "       0.41218416, 0.        , 0.        , 0.        , 0.        ,\n",
       "       0.        , 0.        , 0.        , 0.        , 0.19906711,\n",
       "       0.18622867, 0.        , 0.16401522, 0.        , 0.        ,\n",
       "       0.        , 0.13003858, 0.        , 0.        , 0.        ,\n",
       "       0.        , 0.        , 0.09591515, 0.        , 0.        ,\n",
       "       0.        , 0.        , 0.        , 0.        , 0.        ,\n",
       "       0.        , 0.        , 0.        , 0.        , 0.        ,\n",
       "       0.        , 0.05427213, 0.        , 0.        , 0.        ,\n",
       "       0.        , 0.        , 0.04435227, 0.04296637, 0.        ,\n",
       "       0.        , 0.        , 0.        , 0.        , 0.        ,\n",
       "       0.        , 0.        , 0.        , 0.        , 0.        ])"
      ]
     },
     "execution_count": 6,
     "metadata": {},
     "output_type": "execute_result"
    }
   ],
   "source": [
    "ca61_h2o_571 = ss_rdf.rdf[0][1][570]\n",
    "ca61_h2o_571"
   ]
  },
  {
   "cell_type": "code",
   "execution_count": 7,
   "id": "c0dc6b57",
   "metadata": {},
   "outputs": [
    {
     "data": {
      "image/png": "[encoded data removed]",
      "text/plain": [
       "<Figure size 432x288 with 1 Axes>"
      ]
     },
     "metadata": {
      "needs_background": "light"
     },
     "output_type": "display_data"
    }
   ],
   "source": [
    "plt.plot(ss_rdf.bins, ca61_h2o_571)\n",
    "w570 = water[570]\n",
    "plt.xlabel('Radius (angstrom)')\n",
    "plt.ylabel('Radial distribution')\n",
    "plt.title('RDF between CA61 and {}{}'.format(w570.name, w570.resid));"
   ]
  },
  {
   "cell_type": "code",
   "execution_count": 8,
   "id": "202d2fa3",
   "metadata": {},
   "outputs": [
    {
     "name": "stdout",
     "output_type": "stream",
     "text": [
      "4374 4374 4374\n"
     ]
    }
   ],
   "source": [
    "j, k, nbin = np.nonzero(ss_rdf.rdf[0])\n",
    "print(len(j), len(k), len(nbin))"
   ]
  },
  {
   "cell_type": "code",
   "execution_count": 9,
   "id": "bc5b4576",
   "metadata": {},
   "outputs": [
    {
     "data": {
      "text/plain": [
       "0.0489374090650898"
      ]
     },
     "execution_count": 9,
     "metadata": {},
     "output_type": "execute_result"
    }
   ],
   "source": [
    "ss_rdf.rdf[0][j[0], k[0], nbin[0]]"
   ]
  },
  {
   "cell_type": "markdown",
   "id": "ba53ce0e",
   "metadata": {},
   "source": [
    "Right now, we don’t care which particular bin has a nonzero value. Let’s find which water atom is the most present around the alpha-carbon of residue 60, i.e. the first atom.\n",
    "\n"
   ]
  },
  {
   "cell_type": "code",
   "execution_count": 10,
   "id": "96b3a20a",
   "metadata": {},
   "outputs": [
    {
     "name": "stdout",
     "output_type": "stream",
     "text": [
      "The water atom with the highest distribution around CA60 has index 568\n"
     ]
    }
   ],
   "source": [
    "# where j == 0, representing the first atom\n",
    "water_for_ca60 = k[j==0]\n",
    "# count how many of each atom index are in array\n",
    "k_values, k_counts = np.unique(water_for_ca60,\n",
    "                               return_counts=True)\n",
    "# get the first k value with the most counts\n",
    "k_max = k_values[np.argmax(k_counts)]\n",
    "print('The water atom with the highest distribution '\n",
    "      'around CA60 has index {}'.format(k_max))\n"
   ]
  },
  {
   "cell_type": "markdown",
   "id": "342aa507",
   "metadata": {},
   "source": [
    "You can also calculate a cumulative distribution function for each of your results with ss_rdf.get_cdf(). This is the actual count of atoms within the given range, averaged over the trajectory; the volume of each radial shell is not taken into account. The result then gets saved into ss_rdf.cdf. The CDF has the same shape as the corresponding RDF array."
   ]
  },
  {
   "cell_type": "code",
   "execution_count": 11,
   "id": "28171496",
   "metadata": {},
   "outputs": [
    {
     "name": "stdout",
     "output_type": "stream",
     "text": [
      "(2, 1041, 75)\n"
     ]
    }
   ],
   "source": [
    "cdf = ss_rdf.get_cdf()\n",
    "print(cdf[0].shape)"
   ]
  },
  {
   "cell_type": "code",
   "execution_count": 12,
   "id": "d4f25cf1",
   "metadata": {},
   "outputs": [
    {
     "data": {
      "image/png": "[encoded data removed]",
      "text/plain": [
       "<Figure size 432x288 with 1 Axes>"
      ]
     },
     "metadata": {
      "needs_background": "light"
     },
     "output_type": "display_data"
    }
   ],
   "source": [
    "plt.plot(ss_rdf.bins, ss_rdf.cdf[0][0][568])\n",
    "w568 = water[568]\n",
    "plt.xlabel('Radius (angstrom)')\n",
    "plt.ylabel('Radial cumulative distribution')\n",
    "plt.title('RDF between CA60 and {}{}'.format(w568.name, w568.resid));"
   ]
  },
  {
   "cell_type": "markdown",
   "id": "e8937431",
   "metadata": {},
   "source": [
    "## The site-specific RDF without densities\n",
    "\n",
    "When the density of the selected atom groups over the box volume is not accounted for, your distribution values will be proportionally lower."
   ]
  },
  {
   "cell_type": "code",
   "execution_count": 13,
   "id": "c347adfd",
   "metadata": {},
   "outputs": [],
   "source": [
    "ss_rdf_nodensity = rdf.InterRDF_s(u, ags,\n",
    "                    nbins=75,  # default\n",
    "                    range=(0.0, 15.0),  # distance\n",
    "                    density=False,\n",
    "                   )\n",
    "ss_rdf_nodensity.run();\n",
    "ss_rdf_nodensity.get_cdf();\n"
   ]
  },
  {
   "cell_type": "code",
   "execution_count": 14,
   "id": "4c5aa049",
   "metadata": {
    "scrolled": true
   },
   "outputs": [
    {
     "data": {
      "image/png": "[encoded data removed]",
      "text/plain": [
       "<Figure size 432x288 with 1 Axes>"
      ]
     },
     "metadata": {
      "needs_background": "light"
     },
     "output_type": "display_data"
    }
   ],
   "source": [
    "plt.plot(ss_rdf_nodensity.bins,\n",
    "         ss_rdf_nodensity.rdf[0][1][570])\n",
    "plt.xlabel('Radius (angstrom)')\n",
    "plt.ylabel('Radial distribution')\n",
    "plt.title('RDF between CA61 and {}{}'.format(w570.name, w570.resid));"
   ]
  }
 ],
 "metadata": {
  "kernelspec": {
   "display_name": "Python 3",
   "language": "python",
   "name": "python3"
  },
  "language_info": {
   "codemirror_mode": {
    "name": "ipython",
    "version": 3
   },
   "file_extension": ".py",
   "mimetype": "text/x-python",
   "name": "python",
   "nbconvert_exporter": "python",
   "pygments_lexer": "ipython3",
   "version": "3.8.8"
  }
 },
 "nbformat": 4,
 "nbformat_minor": 5
}
